{
 "cells": [
  {
   "cell_type": "markdown",
   "metadata": {},
   "source": [
    "<CENTER><h1>Análisis del Bosón de Higgs del experimento ATLAS en el canal de decaimiento $H \\rightarrow WW^{*}\\rightarrow e\\nu\\mu\\nu$     a      $\\sqrt{s}=13TeV$</h1></CENTER>"
   ]
  },
  {
   "cell_type": "markdown",
   "metadata": {},
   "source": [
    "-------------------\n",
    "Vamos a incluir bibliotecas estándar de C++ y ROOT"
   ]
  },
  {
   "cell_type": "code",
   "execution_count": 1,
   "metadata": {},
   "outputs": [],
   "source": [
    "#include <iostream>\n",
    "#include <string>\n",
    "#include <vector>\n",
    "#include <stdio.h>\n",
    "#include <typeinfo>\n",
    "#include <cstdlib>\n",
    "#include <sys/stat.h>\n",
    "using namespace std;"
   ]
  },
  {
   "cell_type": "code",
   "execution_count": 2,
   "metadata": {},
   "outputs": [],
   "source": [
    "#include \"fileExist.C\""
   ]
  },
  {
   "cell_type": "markdown",
   "metadata": {},
   "source": [
    "------------------\n",
    "<p> Se crean los folders que van a guardar los resultados del análisis y los plots finales</p>"
   ]
  },
  {
   "cell_type": "code",
   "execution_count": 3,
   "metadata": {},
   "outputs": [],
   "source": [
    "bool file_exist = fileExists(\"Analysis/Output_HWWAnalysis\");\n",
    "if (file_exist != true){\n",
    "    mkdir(\"Analysis/Output_HWWAnalysis\",S_IRWXU);\n",
    "}\n",
    "file_exit = fileExists(\"Plotting/histograms\");\n",
    "if (file_exist != true){\n",
    "    mkdir(\"Plotting/histograms\",S_IRWXU);\n",
    "}"
   ]
  },
  {
   "cell_type": "markdown",
   "metadata": {},
   "source": [
    "--------------\n",
    "<h4>Which option should I run?</h4>\n",
    "<p>Optioms are</p>\n",
    "<p>0=run all data and Mc one after another</p>\n",
    "<p>1=run data only</p>\n",
    "<p>2, 3, 4, 5, 6 = run MC sample only</p>"
   ]
  },
  {
   "cell_type": "code",
   "execution_count": 4,
   "metadata": {},
   "outputs": [
    {
     "name": "stdout",
     "output_type": "stream",
     "text": [
      "6\n"
     ]
    }
   ],
   "source": [
    "int option = 6;\n",
    "cout << option << endl;"
   ]
  },
  {
   "cell_type": "markdown",
   "metadata": {},
   "source": [
    "---------\n",
    "<h4>Should use PROOF? (will make things faster)</h4>\n",
    "<p>Options are:</p>\n",
    "<p>0=NO</p>\n",
    "<p>1=YES</p>"
   ]
  },
  {
   "cell_type": "code",
   "execution_count": 5,
   "metadata": {},
   "outputs": [
    {
     "name": "stdout",
     "output_type": "stream",
     "text": [
      "1\n"
     ]
    }
   ],
   "source": [
    "int parallel =1;\n",
    "cout << parallel << endl;"
   ]
  },
  {
   "cell_type": "markdown",
   "metadata": {},
   "source": [
    "---------\n",
    "<h3> Physical Analysis </h3>"
   ]
  },
  {
   "cell_type": "code",
   "execution_count": 6,
   "metadata": {
    "scrolled": true
   },
   "outputs": [
    {
     "name": "stdout",
     "output_type": "stream",
     "text": [
      "starting ROOT\n",
      " +++ Starting PROOF-Lite with 2 workers +++\n"
     ]
    },
    {
     "name": "stderr",
     "output_type": "stream",
     "text": [
      "Opening connections to workers: OK (2 workers)                 \n",
      "Setting up worker servers: OK (2 workers)                 \n"
     ]
    },
    {
     "name": "stdout",
     "output_type": "stream",
     "text": [
      "PROOF set to parallel mode (2 workers)\n",
      " \n"
     ]
    },
    {
     "name": "stderr",
     "output_type": "stream",
     "text": [
      "Info in <TProofLite::SetQueryRunning>: starting query: 1\n",
      "Info in <TProofQueryResult::SetRunning>: nwrks: 2\n",
      "Looking up for exact location of files: OK (1 files)                 \n",
      "Looking up for exact location of files: OK (1 files)                 \n",
      "Info in <TPacketizer::TPacketizer>: Initial number of workers: 2\n",
      "Validating files: OK (1 files)                 \n",
      "[TProof::Progress] Total 182180 events\t|====================| 100.00 % [38786.5 evts/s, 16.5 MB/s, time left: 0.0 s]\n",
      " Query processing time: 4.7 s\n",
      "Lite-0: merging output objects ... \\ (1 workers still sending)   \r"
     ]
    },
    {
     "name": "stdout",
     "output_type": "stream",
     "text": [
      "Writting with name option: Ztautau \n",
      " \n"
     ]
    },
    {
     "name": "stderr",
     "output_type": "stream",
     "text": [
      "Lite-0: all output objects have been merged                                                         \n",
      "Info in <TProofLite::SetQueryRunning>: starting query: 2\n",
      "Info in <TProofQueryResult::SetRunning>: nwrks: 2\n",
      "Info in <ACLiC>: unmodified script has already been compiled and loaded\n",
      "Looking up for exact location of files: OK (1 files)                 \n",
      "Looking up for exact location of files: OK (1 files)                 \n",
      "Info in <TPacketizer::TPacketizer>: Initial number of workers: 2\n",
      "Validating files: OK (1 files)                 \n",
      "[TProof::Progress] Total 2910539 events\t|====================| 100.00 % [43577.5 evts/s, 23.6 MB/s, time left: 0.0 s]\n",
      " Query processing time: 66.8 s\n",
      "Lite-0: merging output objects ... \\ (1 workers still sending)   \r"
     ]
    },
    {
     "name": "stdout",
     "output_type": "stream",
     "text": [
      "Writting with name option: ttbar_lep \n",
      " \n"
     ]
    },
    {
     "name": "stderr",
     "output_type": "stream",
     "text": [
      "Lite-0: all output objects have been merged                                                         \n",
      "Info in <TProofLite::SetQueryRunning>: starting query: 3\n",
      "Info in <TProofQueryResult::SetRunning>: nwrks: 2\n",
      "Info in <ACLiC>: unmodified script has already been compiled and loaded\n",
      "Looking up for exact location of files: OK (1 files)                 \n",
      "Looking up for exact location of files: OK (1 files)                 \n",
      "Info in <TPacketizer::TPacketizer>: Initial number of workers: 2\n",
      "Validating files: OK (1 files)                 \n",
      "[TProof::Progress] Total 41502 events\t|====================| 100.00 % [40293.2 evts/s, 17.7 MB/s, time left: 0.0 s]\n",
      " Query processing time: 1.0 s\n",
      "Lite-0: merging output objects ... \\ (1 workers still sending)   \r"
     ]
    },
    {
     "name": "stdout",
     "output_type": "stream",
     "text": [
      "Writting with name option: Wplusenu \n",
      " \n"
     ]
    },
    {
     "name": "stderr",
     "output_type": "stream",
     "text": [
      "Lite-0: all output objects have been merged                                                         \n",
      "Info in <TProofLite::SetQueryRunning>: starting query: 4\n",
      "Info in <TProofQueryResult::SetRunning>: nwrks: 2\n",
      "Info in <ACLiC>: unmodified script has already been compiled and loaded\n",
      "Looking up for exact location of files: OK (1 files)                 \n",
      "Looking up for exact location of files: OK (1 files)                 \n",
      "Info in <TPacketizer::TPacketizer>: Initial number of workers: 2\n",
      "Validating files: OK (1 files)                 \n",
      "[TProof::Progress] Total 35184 events\t|====================| 100.00 % [36958.0 evts/s, 16.3 MB/s, time left: 0.0 s]\n",
      " Query processing time: 1.0 s\n",
      "Lite-0: merging output objects ... \\ (1 workers still sending)   \r"
     ]
    },
    {
     "name": "stdout",
     "output_type": "stream",
     "text": [
      "Writting with name option: Wplusmunu \n",
      " \n"
     ]
    },
    {
     "name": "stderr",
     "output_type": "stream",
     "text": [
      "Lite-0: all output objects have been merged                                                         \n",
      "Info in <TProofLite::SetQueryRunning>: starting query: 5\n",
      "Info in <TProofQueryResult::SetRunning>: nwrks: 2\n",
      "Info in <ACLiC>: unmodified script has already been compiled and loaded\n",
      "Looking up for exact location of files: OK (1 files)                 \n",
      "Looking up for exact location of files: OK (1 files)                 \n",
      "Info in <TPacketizer::TPacketizer>: Initial number of workers: 2\n",
      "Validating files: OK (1 files)                 \n",
      "[TProof::Progress] Total 1774 events\t|====================| 100.00 % [19282.6 evts/s, 9.3 MB/s, time left: 0.0 s]\n",
      " Query processing time: 0.1 s\n",
      "Lite-0: merging output objects ... \\ (1 workers still sending)   \r"
     ]
    },
    {
     "name": "stdout",
     "output_type": "stream",
     "text": [
      "Writting with name option: Wplustaunu \n",
      " \n"
     ]
    },
    {
     "name": "stderr",
     "output_type": "stream",
     "text": [
      "Lite-0: all output objects have been merged                                                         \n",
      "Info in <TProofLite::SetQueryRunning>: starting query: 6\n",
      "Info in <TProofQueryResult::SetRunning>: nwrks: 2\n",
      "Info in <ACLiC>: unmodified script has already been compiled and loaded\n",
      "Looking up for exact location of files: OK (1 files)                 \n",
      "Looking up for exact location of files: OK (1 files)                 \n",
      "Info in <TPacketizer::TPacketizer>: Initial number of workers: 2\n",
      "Validating files: OK (1 files)                 \n",
      "[TProof::Progress] Total 31893 events\t|====================| 100.00 % [38989.0 evts/s, 17.3 MB/s, time left: 0.0 s]\n",
      " Query processing time: 0.8 s\n",
      "Lite-0: merging output objects ... \\ (1 workers still sending)   \r"
     ]
    },
    {
     "name": "stdout",
     "output_type": "stream",
     "text": [
      "Writting with name option: Wminusenu \n",
      " \n"
     ]
    },
    {
     "name": "stderr",
     "output_type": "stream",
     "text": [
      "Lite-0: all output objects have been merged                                                         \n",
      "Info in <TProofLite::SetQueryRunning>: starting query: 7\n",
      "Info in <TProofQueryResult::SetRunning>: nwrks: 2\n",
      "Info in <ACLiC>: unmodified script has already been compiled and loaded\n",
      "Looking up for exact location of files: OK (1 files)                 \n",
      "Looking up for exact location of files: OK (1 files)                 \n",
      "Info in <TPacketizer::TPacketizer>: Initial number of workers: 2\n",
      "Validating files: OK (1 files)                 \n",
      "[TProof::Progress] Total 30307 events\t|====================| 100.00 % [37095.5 evts/s, 16.4 MB/s, time left: 0.0 s]\n",
      " Query processing time: 0.8 s\n",
      "Lite-0: merging output objects ... \\ (1 workers still sending)   \r"
     ]
    },
    {
     "name": "stdout",
     "output_type": "stream",
     "text": [
      "Writting with name option: Wminusmunu \n",
      " \n"
     ]
    },
    {
     "name": "stderr",
     "output_type": "stream",
     "text": [
      "Lite-0: all output objects have been merged                                                         \n",
      "Info in <TProofLite::SetQueryRunning>: starting query: 8\n",
      "Info in <TProofQueryResult::SetRunning>: nwrks: 2\n",
      "Info in <ACLiC>: unmodified script has already been compiled and loaded\n",
      "Looking up for exact location of files: OK (1 files)                 \n",
      "Looking up for exact location of files: OK (1 files)                 \n",
      "Info in <TPacketizer::TPacketizer>: Initial number of workers: 2\n",
      "Validating files: OK (1 files)                 \n",
      "[TProof::Progress] Total 1409 events\t|====================| 100.00 % [14677.1 evts/s, 7.1 MB/s, time left: 0.0 s]\n",
      " Query processing time: 0.1 s\n",
      "Lite-0: merging output objects ... \\ (1 workers still sending)   \r"
     ]
    },
    {
     "name": "stdout",
     "output_type": "stream",
     "text": [
      "Writting with name option: Wminustaunu \n",
      " \n"
     ]
    },
    {
     "name": "stderr",
     "output_type": "stream",
     "text": [
      "Lite-0: all output objects have been merged                                                         \n",
      "Info in <TProofLite::SetQueryRunning>: starting query: 9\n",
      "Info in <TProofQueryResult::SetRunning>: nwrks: 2\n",
      "Info in <ACLiC>: unmodified script has already been compiled and loaded\n",
      "Looking up for exact location of files: OK (1 files)                 \n",
      "Looking up for exact location of files: OK (1 files)                 \n",
      "Info in <TPacketizer::TPacketizer>: Initial number of workers: 2\n",
      "Validating files: OK (1 files)                 \n",
      "[TProof::Progress] Total 628685 events\t|====================| 100.00 % [45639.6 evts/s, 20.3 MB/s, time left: 0.0 s]\n",
      " Query processing time: 13.8 s\n",
      "Lite-0: merging output objects ... \\ (1 workers still sending)   \r"
     ]
    },
    {
     "name": "stdout",
     "output_type": "stream",
     "text": [
      "Writting with name option: ggH125_WW2lep \n",
      " \n"
     ]
    },
    {
     "name": "stderr",
     "output_type": "stream",
     "text": [
      "Lite-0: all output objects have been merged                                                         \n",
      "Info in <TProofLite::SetQueryRunning>: starting query: 10\n",
      "Info in <TProofQueryResult::SetRunning>: nwrks: 2\n",
      "Info in <ACLiC>: unmodified script has already been compiled and loaded\n",
      "Looking up for exact location of files: OK (1 files)                 \n",
      "Looking up for exact location of files: OK (1 files)                 \n",
      "Info in <TPacketizer::TPacketizer>: Initial number of workers: 2\n",
      "Validating files: OK (1 files)                 \n",
      "[TProof::Progress] Total 425131 events\t|====================| 100.00 % [42385.9 evts/s, 19.7 MB/s, time left: 0.0 s]\n",
      " Query processing time: 10.0 s\n",
      "Lite-0: all output objects have been merged                                                         \n"
     ]
    },
    {
     "name": "stdout",
     "output_type": "stream",
     "text": [
      "Writting with name option: VBFH125_WW2lep \n",
      "end of ROOT execution\n"
     ]
    }
   ],
   "source": [
    "chdir(\"Analysis/\");\n",
    "string comand = \"./run.sh \"+to_string(option)+\" \"+to_string(parallel);\n",
    "system(\"chmod +x run.sh\");\n",
    "system(comand.c_str());\n",
    "chdir(\"../\");"
   ]
  },
  {
   "cell_type": "markdown",
   "metadata": {},
   "source": [
    "<p> Add the samples later with: hadd data.root dataA.root dataB.root dataC.root dataD.root </p>"
   ]
  },
  {
   "cell_type": "code",
   "execution_count": 7,
   "metadata": {},
   "outputs": [
    {
     "name": "stdout",
     "output_type": "stream",
     "text": [
      "hadd Target file: data.root\n",
      "hadd compression setting for all ouput: 1\n",
      "hadd Source file 1: dataA.root\n",
      "hadd Source file 2: dataB.root\n",
      "hadd Source file 3: dataC.root\n",
      "hadd Source file 4: dataD.root\n",
      "hadd Target path: data.root:/\n"
     ]
    }
   ],
   "source": [
    "if (fileExists(\"Analysis/Output_HWWAnalysis/data.root\") != true){\n",
    "    if ((fileExists(\"Analysis/Output_HWWAnalysis/dataA.root\")==true) && \n",
    "        (fileExists(\"Analysis/Output_HWWAnalysis/dataB.root\")==true) &&\n",
    "        (fileExists(\"Analysis/Output_HWWAnalysis/dataC.root\")==true) && \n",
    "        (fileExists(\"Analysis/Output_HWWAnalysis/dataD.root\")==true)){\n",
    "        chdir(\"Analysis/Output_HWWAnalysis/\");\n",
    "        system(\"hadd data.root dataA.root dataB.root dataC.root dataD.root\");\n",
    "        chdir(\"../../\");  \n",
    "    }\n",
    "}"
   ]
  },
  {
   "cell_type": "markdown",
   "metadata": {},
   "source": [
    "--------------------\n",
    "<h3> Plotting </h3>"
   ]
  },
  {
   "cell_type": "markdown",
   "metadata": {},
   "source": [
    "------------------\n",
    "<h4> Verificar de que existan los .root de cada sample analizada (necesario para los plots finales) </h4>"
   ]
  },
  {
   "cell_type": "code",
   "execution_count": 8,
   "metadata": {},
   "outputs": [],
   "source": [
    "string archivo[]={\"data\",\"ggH125_WW2lep\",\"llll\",\"lllv\",\"llvv\",\"lvvv\",\"single_antitop_schan\",\n",
    "                      \"single_antitop_tchan\",\"single_antitop_wtchan\",\"single_top_schan\",\n",
    "                      \"single_top_tchan\",\"single_top_wtchan\",\"ttbar_lep\",\"VBFH125_WW2lep\",\"WlvZqq\",\n",
    "                      \"Wminusenu\",\"Wminusmunu\",\"Wminustaunu\",\"Wplusenu\",\"Wplusmunu\",\"Wplustaunu\",\n",
    "                      \"WplvWmqq\",\"WpqqWmlv\",\"WqqZll\",\"Zee\",\"Zmumu\",\"ZqqZll\",\"Ztautau\"};\n",
    "int l = sizeof(archivo)/sizeof(archivo[0]);\n",
    "bool archivo_exist = true;\n",
    "for (unsigned int i=0;i<l;i++){\n",
    "    string name = archivo[i];\n",
    "    string path = \"Analysis/Output_HWWAnalysis/\"+ name + \".root\";\n",
    "    if ((fileExists(path) != true)){\n",
    "        archivo_exist = false;\n",
    "    }\n",
    "}"
   ]
  },
  {
   "cell_type": "markdown",
   "metadata": {},
   "source": [
    "------------------"
   ]
  },
  {
   "cell_type": "code",
   "execution_count": 10,
   "metadata": {
    "scrolled": true
   },
   "outputs": [
    {
     "name": "stdout",
     "output_type": "stream",
     "text": [
      "\n",
      " ---------------------DISCLAIMER--------------------- \n",
      "\n",
      "This Software is intended for educational use only!\n",
      "Under no circumstances does it qualify to reproduce actual ATLAS analysis results or produce publishable results! \n",
      "\n",
      " ---------------------------------------------------- \n",
      "\n",
      "Analysis option found, proceeding...\n",
      "Reading list of histograms from: list_histos/HistoList_HWWAnalysis.txt \n",
      " \n",
      "Analysis: HWWAnalysis, reading input from: inputfiles/Files_HWW.txt \n",
      " \n",
      "Reading files from: ../Analysis/Output_HWWAnalysis \n",
      " \n",
      "=====processing HWWAnalysis=====\n",
      "\n",
      "\n",
      "Plotting histogram: histI_dPhiLLmet\n"
     ]
    },
    {
     "name": "stderr",
     "output_type": "stream",
     "text": [
      "Info in <TCanvas::Print>: png file histograms/histI_dPhiLLmet.png has been created\n",
      "Info in <TCanvas::Print>: pdf file histograms/histI_dPhiLLmet.pdf has been created\n"
     ]
    },
    {
     "name": "stdout",
     "output_type": "stream",
     "text": [
      "Plotting histogram: histI_dPhi_LL\n"
     ]
    },
    {
     "name": "stderr",
     "output_type": "stream",
     "text": [
      "Info in <TCanvas::SaveAs>: ROOT file histograms/histI_dPhiLLmet.root has been created\n",
      "Info in <TCanvas::Print>: png file histograms/histI_dPhi_LL.png has been created\n",
      "Info in <TCanvas::Print>: pdf file histograms/histI_dPhi_LL.pdf has been created\n"
     ]
    },
    {
     "name": "stdout",
     "output_type": "stream",
     "text": [
      "Plotting histogram: histI_etmiss\n"
     ]
    },
    {
     "name": "stderr",
     "output_type": "stream",
     "text": [
      "Info in <TCanvas::SaveAs>: ROOT file histograms/histI_dPhi_LL.root has been created\n",
      "Info in <TCanvas::Print>: png file histograms/histI_etmiss.png has been created\n",
      "Info in <TCanvas::Print>: pdf file histograms/histI_etmiss.pdf has been created\n"
     ]
    },
    {
     "name": "stdout",
     "output_type": "stream",
     "text": [
      "Plotting histogram: histI_mLL\n"
     ]
    },
    {
     "name": "stderr",
     "output_type": "stream",
     "text": [
      "Info in <TCanvas::SaveAs>: ROOT file histograms/histI_etmiss.root has been created\n",
      "Info in <TCanvas::Print>: png file histograms/histI_mLL.png has been created\n",
      "Info in <TCanvas::Print>: pdf file histograms/histI_mLL.pdf has been created\n"
     ]
    },
    {
     "name": "stdout",
     "output_type": "stream",
     "text": [
      "Plotting histogram: histI_mt\n"
     ]
    },
    {
     "name": "stderr",
     "output_type": "stream",
     "text": [
      "Info in <TCanvas::SaveAs>: ROOT file histograms/histI_mLL.root has been created\n",
      "Info in <TCanvas::Print>: png file histograms/histI_mt.png has been created\n",
      "Info in <TCanvas::Print>: pdf file histograms/histI_mt.pdf has been created\n"
     ]
    },
    {
     "name": "stdout",
     "output_type": "stream",
     "text": [
      "Plotting histogram: histI_n_bjets\n"
     ]
    },
    {
     "name": "stderr",
     "output_type": "stream",
     "text": [
      "Info in <TCanvas::SaveAs>: ROOT file histograms/histI_mt.root has been created\n",
      "Info in <TCanvas::Print>: png file histograms/histI_n_bjets.png has been created\n",
      "Info in <TCanvas::Print>: pdf file histograms/histI_n_bjets.pdf has been created\n"
     ]
    },
    {
     "name": "stdout",
     "output_type": "stream",
     "text": [
      "Plotting histogram: histI_n_jets\n"
     ]
    },
    {
     "name": "stderr",
     "output_type": "stream",
     "text": [
      "Info in <TCanvas::SaveAs>: ROOT file histograms/histI_n_bjets.root has been created\n",
      "Info in <TCanvas::Print>: png file histograms/histI_n_jets.png has been created\n",
      "Info in <TCanvas::Print>: pdf file histograms/histI_n_jets.pdf has been created\n"
     ]
    },
    {
     "name": "stdout",
     "output_type": "stream",
     "text": [
      "Plotting histogram: histI_ptLL\n"
     ]
    },
    {
     "name": "stderr",
     "output_type": "stream",
     "text": [
      "Info in <TCanvas::SaveAs>: ROOT file histograms/histI_n_jets.root has been created\n",
      "Info in <TCanvas::Print>: png file histograms/histI_ptLL.png has been created\n",
      "Info in <TCanvas::Print>: pdf file histograms/histI_ptLL.pdf has been created\n"
     ]
    },
    {
     "name": "stdout",
     "output_type": "stream",
     "text": [
      "Plotting histogram: hist_dPhiLLmet\n"
     ]
    },
    {
     "name": "stderr",
     "output_type": "stream",
     "text": [
      "Info in <TCanvas::SaveAs>: ROOT file histograms/histI_ptLL.root has been created\n",
      "Info in <TCanvas::Print>: png file histograms/hist_dPhiLLmet.png has been created\n",
      "Info in <TCanvas::Print>: pdf file histograms/hist_dPhiLLmet.pdf has been created\n"
     ]
    },
    {
     "name": "stdout",
     "output_type": "stream",
     "text": [
      "Plotting histogram: hist_dPhi_LL\n"
     ]
    },
    {
     "name": "stderr",
     "output_type": "stream",
     "text": [
      "Info in <TCanvas::SaveAs>: ROOT file histograms/hist_dPhiLLmet.root has been created\n",
      "Info in <TCanvas::Print>: png file histograms/hist_dPhi_LL.png has been created\n",
      "Info in <TCanvas::Print>: pdf file histograms/hist_dPhi_LL.pdf has been created\n"
     ]
    },
    {
     "name": "stdout",
     "output_type": "stream",
     "text": [
      "Plotting histogram: hist_etmiss\n"
     ]
    },
    {
     "name": "stderr",
     "output_type": "stream",
     "text": [
      "Info in <TCanvas::SaveAs>: ROOT file histograms/hist_dPhi_LL.root has been created\n",
      "Info in <TCanvas::Print>: png file histograms/hist_etmiss.png has been created\n",
      "Info in <TCanvas::Print>: pdf file histograms/hist_etmiss.pdf has been created\n"
     ]
    },
    {
     "name": "stdout",
     "output_type": "stream",
     "text": [
      "Plotting histogram: hist_leadleptE\n"
     ]
    },
    {
     "name": "stderr",
     "output_type": "stream",
     "text": [
      "Info in <TCanvas::SaveAs>: ROOT file histograms/hist_etmiss.root has been created\n",
      "Info in <TCanvas::Print>: png file histograms/hist_leadleptE.png has been created\n",
      "Info in <TCanvas::Print>: pdf file histograms/hist_leadleptE.pdf has been created\n"
     ]
    },
    {
     "name": "stdout",
     "output_type": "stream",
     "text": [
      "Plotting histogram: hist_leadleptID\n"
     ]
    },
    {
     "name": "stderr",
     "output_type": "stream",
     "text": [
      "Info in <TCanvas::SaveAs>: ROOT file histograms/hist_leadleptE.root has been created\n",
      "Info in <TCanvas::Print>: png file histograms/hist_leadleptID.png has been created\n",
      "Info in <TCanvas::Print>: pdf file histograms/hist_leadleptID.pdf has been created\n"
     ]
    },
    {
     "name": "stdout",
     "output_type": "stream",
     "text": [
      "Plotting histogram: hist_leadleptch\n"
     ]
    },
    {
     "name": "stderr",
     "output_type": "stream",
     "text": [
      "Info in <TCanvas::SaveAs>: ROOT file histograms/hist_leadleptID.root has been created\n",
      "Info in <TCanvas::Print>: png file histograms/hist_leadleptch.png has been created\n",
      "Info in <TCanvas::Print>: pdf file histograms/hist_leadleptch.pdf has been created\n"
     ]
    },
    {
     "name": "stdout",
     "output_type": "stream",
     "text": [
      "Plotting histogram: hist_leadlepteta\n"
     ]
    },
    {
     "name": "stderr",
     "output_type": "stream",
     "text": [
      "Info in <TCanvas::SaveAs>: ROOT file histograms/hist_leadleptch.root has been created\n",
      "Info in <TCanvas::Print>: png file histograms/hist_leadlepteta.png has been created\n",
      "Info in <TCanvas::Print>: pdf file histograms/hist_leadlepteta.pdf has been created\n"
     ]
    },
    {
     "name": "stdout",
     "output_type": "stream",
     "text": [
      "Plotting histogram: hist_leadleptphi\n"
     ]
    },
    {
     "name": "stderr",
     "output_type": "stream",
     "text": [
      "Info in <TCanvas::SaveAs>: ROOT file histograms/hist_leadlepteta.root has been created\n",
      "Info in <TCanvas::Print>: png file histograms/hist_leadleptphi.png has been created\n",
      "Info in <TCanvas::Print>: pdf file histograms/hist_leadleptphi.pdf has been created\n"
     ]
    },
    {
     "name": "stdout",
     "output_type": "stream",
     "text": [
      "Plotting histogram: hist_leadleptpt\n"
     ]
    },
    {
     "name": "stderr",
     "output_type": "stream",
     "text": [
      "Info in <TCanvas::SaveAs>: ROOT file histograms/hist_leadleptphi.root has been created\n",
      "Info in <TCanvas::Print>: png file histograms/hist_leadleptpt.png has been created\n",
      "Info in <TCanvas::Print>: pdf file histograms/hist_leadleptpt.pdf has been created\n"
     ]
    },
    {
     "name": "stdout",
     "output_type": "stream",
     "text": [
      "Plotting histogram: hist_mLL\n"
     ]
    },
    {
     "name": "stderr",
     "output_type": "stream",
     "text": [
      "Info in <TCanvas::SaveAs>: ROOT file histograms/hist_leadleptpt.root has been created\n",
      "Info in <TCanvas::Print>: png file histograms/hist_mLL.png has been created\n",
      "Info in <TCanvas::Print>: pdf file histograms/hist_mLL.pdf has been created\n"
     ]
    },
    {
     "name": "stdout",
     "output_type": "stream",
     "text": [
      "Plotting histogram: hist_mt\n"
     ]
    },
    {
     "name": "stderr",
     "output_type": "stream",
     "text": [
      "Info in <TCanvas::SaveAs>: ROOT file histograms/hist_mLL.root has been created\n",
      "Info in <TCanvas::Print>: png file histograms/hist_mt.png has been created\n",
      "Info in <TCanvas::Print>: pdf file histograms/hist_mt.pdf has been created\n"
     ]
    },
    {
     "name": "stdout",
     "output_type": "stream",
     "text": [
      "Plotting histogram: hist_n_bjets\n"
     ]
    },
    {
     "name": "stderr",
     "output_type": "stream",
     "text": [
      "Info in <TCanvas::SaveAs>: ROOT file histograms/hist_mt.root has been created\n",
      "Info in <TCanvas::Print>: png file histograms/hist_n_bjets.png has been created\n",
      "Info in <TCanvas::Print>: pdf file histograms/hist_n_bjets.pdf has been created\n"
     ]
    },
    {
     "name": "stdout",
     "output_type": "stream",
     "text": [
      "Plotting histogram: hist_n_jets\n"
     ]
    },
    {
     "name": "stderr",
     "output_type": "stream",
     "text": [
      "Info in <TCanvas::SaveAs>: ROOT file histograms/hist_n_bjets.root has been created\n",
      "Info in <TCanvas::Print>: png file histograms/hist_n_jets.png has been created\n",
      "Info in <TCanvas::Print>: pdf file histograms/hist_n_jets.pdf has been created\n"
     ]
    },
    {
     "name": "stdout",
     "output_type": "stream",
     "text": [
      "Plotting histogram: hist_ptLL\n"
     ]
    },
    {
     "name": "stderr",
     "output_type": "stream",
     "text": [
      "Info in <TCanvas::SaveAs>: ROOT file histograms/hist_n_jets.root has been created\n",
      "Info in <TCanvas::Print>: png file histograms/hist_ptLL.png has been created\n",
      "Info in <TCanvas::Print>: pdf file histograms/hist_ptLL.pdf has been created\n"
     ]
    },
    {
     "name": "stdout",
     "output_type": "stream",
     "text": [
      "Plotting histogram: hist_subleadleptE\n"
     ]
    },
    {
     "name": "stderr",
     "output_type": "stream",
     "text": [
      "Info in <TCanvas::SaveAs>: ROOT file histograms/hist_ptLL.root has been created\n",
      "Info in <TCanvas::Print>: png file histograms/hist_subleadleptE.png has been created\n",
      "Info in <TCanvas::Print>: pdf file histograms/hist_subleadleptE.pdf has been created\n"
     ]
    },
    {
     "name": "stdout",
     "output_type": "stream",
     "text": [
      "Plotting histogram: hist_subleadleptID\n"
     ]
    },
    {
     "name": "stderr",
     "output_type": "stream",
     "text": [
      "Info in <TCanvas::SaveAs>: ROOT file histograms/hist_subleadleptE.root has been created\n",
      "Info in <TCanvas::Print>: png file histograms/hist_subleadleptID.png has been created\n",
      "Info in <TCanvas::Print>: pdf file histograms/hist_subleadleptID.pdf has been created\n"
     ]
    },
    {
     "name": "stdout",
     "output_type": "stream",
     "text": [
      "Plotting histogram: hist_subleadleptch\n"
     ]
    },
    {
     "name": "stderr",
     "output_type": "stream",
     "text": [
      "Info in <TCanvas::SaveAs>: ROOT file histograms/hist_subleadleptID.root has been created\n",
      "Info in <TCanvas::Print>: png file histograms/hist_subleadleptch.png has been created\n",
      "Info in <TCanvas::Print>: pdf file histograms/hist_subleadleptch.pdf has been created\n"
     ]
    },
    {
     "name": "stdout",
     "output_type": "stream",
     "text": [
      "Plotting histogram: hist_subleadlepteta\n"
     ]
    },
    {
     "name": "stderr",
     "output_type": "stream",
     "text": [
      "Info in <TCanvas::SaveAs>: ROOT file histograms/hist_subleadleptch.root has been created\n",
      "Info in <TCanvas::Print>: png file histograms/hist_subleadlepteta.png has been created\n",
      "Info in <TCanvas::Print>: pdf file histograms/hist_subleadlepteta.pdf has been created\n"
     ]
    },
    {
     "name": "stdout",
     "output_type": "stream",
     "text": [
      "Plotting histogram: hist_subleadleptphi\n"
     ]
    },
    {
     "name": "stderr",
     "output_type": "stream",
     "text": [
      "Info in <TCanvas::SaveAs>: ROOT file histograms/hist_subleadlepteta.root has been created\n",
      "Info in <TCanvas::Print>: png file histograms/hist_subleadleptphi.png has been created\n",
      "Info in <TCanvas::Print>: pdf file histograms/hist_subleadleptphi.pdf has been created\n"
     ]
    },
    {
     "name": "stdout",
     "output_type": "stream",
     "text": [
      "Plotting histogram: hist_subleadleptpt\n"
     ]
    },
    {
     "name": "stderr",
     "output_type": "stream",
     "text": [
      "Info in <TCanvas::SaveAs>: ROOT file histograms/hist_subleadleptphi.root has been created\n",
      "Info in <TCanvas::Print>: png file histograms/hist_subleadleptpt.png has been created\n",
      "Info in <TCanvas::Print>: pdf file histograms/hist_subleadleptpt.pdf has been created\n",
      "Info in <TCanvas::SaveAs>: ROOT file histograms/hist_subleadleptpt.root has been created\n"
     ]
    }
   ],
   "source": [
    "if (archivo_exist){\n",
    "    chdir(\"Plotting/\");\n",
    "    system(\"chmod +x plotme.sh\");\n",
    "    system(\"./plotme.sh\");\n",
    "    chdir(\"../\");\n",
    "}"
   ]
  },
  {
   "cell_type": "code",
   "execution_count": null,
   "metadata": {},
   "outputs": [],
   "source": []
  }
 ],
 "metadata": {
  "kernelspec": {
   "display_name": "ROOT C++",
   "language": "c++",
   "name": "root"
  },
  "language_info": {
   "codemirror_mode": "text/x-c++src",
   "file_extension": ".C",
   "mimetype": " text/x-c++src",
   "name": "c++"
  }
 },
 "nbformat": 4,
 "nbformat_minor": 2
}
